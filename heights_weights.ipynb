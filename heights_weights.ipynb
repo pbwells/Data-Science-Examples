{
 "cells": [
  {
   "cell_type": "code",
   "execution_count": 2,
   "metadata": {},
   "outputs": [],
   "source": [
    "import numpy as np"
   ]
  },
  {
   "cell_type": "code",
   "execution_count": 3,
   "metadata": {
    "scrolled": true
   },
   "outputs": [
    {
     "data": {
      "text/plain": [
       "array([['1.64', '63.4'],\n",
       "       ['1.83', '77.2'],\n",
       "       ['1.75', '68.6'],\n",
       "       ['1.55', '56.5'],\n",
       "       ['1.81', '84.1'],\n",
       "       ['1.69', '88.8'],\n",
       "       ['1.71', '76.4'],\n",
       "       ['1.88', '81.9'],\n",
       "       ['1.77', '69.3'],\n",
       "       ['1.65', '72.7']], dtype='<U4')"
      ]
     },
     "execution_count": 3,
     "metadata": {},
     "output_type": "execute_result"
    }
   ],
   "source": [
    "np.loadtxt('/Users/paigebrittanywells/Downloads/heights_weights.dat', dtype=str)"
   ]
  },
  {
   "cell_type": "code",
   "execution_count": 8,
   "metadata": {},
   "outputs": [
    {
     "name": "stdout",
     "output_type": "stream",
     "text": [
      "[1.64, 1.83, 1.75, 1.55, 1.81, 1.69, 1.71, 1.88, 1.77, 1.65]\n",
      "[63.4, 77.2, 68.6, 56.5, 84.1, 88.8, 76.4, 81.9, 69.3, 72.7]\n"
     ]
    }
   ],
   "source": [
    "height = [1.64, 1.83, 1.75, 1.55, 1.81, 1.69, 1.71, 1.88, 1.77, 1.65]\n",
    "print(height)\n",
    "weight = [63.4, 77.2, 68.6, 56.5, 84.1, 88.8, 76.4, 81.9, 69.3, 72.7]\n",
    "print(weight)"
   ]
  },
  {
   "cell_type": "code",
   "execution_count": 11,
   "metadata": {},
   "outputs": [],
   "source": [
    "Data = height + weight"
   ]
  },
  {
   "cell_type": "code",
   "execution_count": 12,
   "metadata": {},
   "outputs": [
    {
     "name": "stdout",
     "output_type": "stream",
     "text": [
      "1.7279999999999998\n"
     ]
    }
   ],
   "source": [
    "print(np.mean(height[0:]))"
   ]
  },
  {
   "cell_type": "code",
   "execution_count": 13,
   "metadata": {},
   "outputs": [
    {
     "name": "stdout",
     "output_type": "stream",
     "text": [
      "73.89\n"
     ]
    }
   ],
   "source": [
    "print(np.mean(weight[0:]))"
   ]
  },
  {
   "cell_type": "code",
   "execution_count": 14,
   "metadata": {},
   "outputs": [
    {
     "data": {
      "text/plain": [
       "1.81"
      ]
     },
     "execution_count": 14,
     "metadata": {},
     "output_type": "execute_result"
    }
   ],
   "source": [
    "height[4]"
   ]
  },
  {
   "cell_type": "code",
   "execution_count": 15,
   "metadata": {},
   "outputs": [
    {
     "data": {
      "text/plain": [
       "84.1"
      ]
     },
     "execution_count": 15,
     "metadata": {},
     "output_type": "execute_result"
    }
   ],
   "source": [
    "weight[4]"
   ]
  },
  {
   "cell_type": "code",
   "execution_count": 20,
   "metadata": {},
   "outputs": [],
   "source": [
    "np.savetxt('body_sizes.dat', [4])"
   ]
  },
  {
   "cell_type": "code",
   "execution_count": null,
   "metadata": {},
   "outputs": [],
   "source": []
  }
 ],
 "metadata": {
  "kernelspec": {
   "display_name": "Python 3",
   "language": "python",
   "name": "python3"
  },
  "language_info": {
   "codemirror_mode": {
    "name": "ipython",
    "version": 3
   },
   "file_extension": ".py",
   "mimetype": "text/x-python",
   "name": "python",
   "nbconvert_exporter": "python",
   "pygments_lexer": "ipython3",
   "version": "3.6.4"
  }
 },
 "nbformat": 4,
 "nbformat_minor": 2
}
